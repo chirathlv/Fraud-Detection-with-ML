{
 "cells": [
  {
   "cell_type": "code",
   "execution_count": 1,
   "id": "2882fb23-e443-4a97-a5e3-d688e8aae138",
   "metadata": {},
   "outputs": [
    {
     "ename": "ImportError",
     "evalue": "cannot import name 'hvplot' from 'hvplot' (C:\\Users\\Epic Gaming pc\\anaconda3\\lib\\site-packages\\hvplot\\__init__.py)",
     "output_type": "error",
     "traceback": [
      "\u001b[1;31m---------------------------------------------------------------------------\u001b[0m",
      "\u001b[1;31mImportError\u001b[0m                               Traceback (most recent call last)",
      "\u001b[1;32m<ipython-input-1-3f6116fcbf7d>\u001b[0m in \u001b[0;36m<module>\u001b[1;34m\u001b[0m\n\u001b[0;32m      6\u001b[0m \u001b[1;32mimport\u001b[0m \u001b[0mseaborn\u001b[0m \u001b[1;32mas\u001b[0m \u001b[0msns\u001b[0m\u001b[1;33m\u001b[0m\u001b[1;33m\u001b[0m\u001b[0m\n\u001b[0;32m      7\u001b[0m \u001b[1;32mimport\u001b[0m \u001b[0mnumpy\u001b[0m \u001b[1;32mas\u001b[0m \u001b[0mnp\u001b[0m\u001b[1;33m\u001b[0m\u001b[1;33m\u001b[0m\u001b[0m\n\u001b[1;32m----> 8\u001b[1;33m \u001b[1;32mfrom\u001b[0m \u001b[0mhvplot\u001b[0m \u001b[1;32mimport\u001b[0m \u001b[0mhvplot\u001b[0m\u001b[1;33m\u001b[0m\u001b[1;33m\u001b[0m\u001b[0m\n\u001b[0m\u001b[0;32m      9\u001b[0m \u001b[0mget_ipython\u001b[0m\u001b[1;33m(\u001b[0m\u001b[1;33m)\u001b[0m\u001b[1;33m.\u001b[0m\u001b[0mrun_line_magic\u001b[0m\u001b[1;33m(\u001b[0m\u001b[1;34m'matplotlib'\u001b[0m\u001b[1;33m,\u001b[0m \u001b[1;34m'inline'\u001b[0m\u001b[1;33m)\u001b[0m\u001b[1;33m\u001b[0m\u001b[1;33m\u001b[0m\u001b[0m\n",
      "\u001b[1;31mImportError\u001b[0m: cannot import name 'hvplot' from 'hvplot' (C:\\Users\\Epic Gaming pc\\anaconda3\\lib\\site-packages\\hvplot\\__init__.py)"
     ]
    }
   ],
   "source": [
    "import numpy as np\n",
    "import pandas as pd\n",
    "from pathlib import Path\n",
    "from sklearn.preprocessing import LabelEncoder\n",
    "import matplotlib.pyplot as plt\n",
    "import seaborn as sns\n",
    "import numpy as np\n",
    "from hvplot import hvplot\n",
    "%matplotlib inline"
   ]
  },
  {
   "cell_type": "code",
   "execution_count": null,
   "id": "30f8fc85-abc2-4701-ad63-af36fb4c543a",
   "metadata": {},
   "outputs": [],
   "source": [
    "file_path = Path('Data/data_2019.csv')\n",
    "cleaned_data = pd.read_csv(file_path)\n",
    "cleaned_data.head()"
   ]
  },
  {
   "cell_type": "code",
   "execution_count": null,
   "id": "5f72f823-6aab-4536-8e17-44602759c926",
   "metadata": {},
   "outputs": [],
   "source": [
    "corr = cleaned_data.corr()\n",
    "ax = sns.heatmap( \n",
    "    corr, \n",
    "    vmin=-1, vmax=1, center=0,\n",
    "    cmap=sns.diverging_palette(20, 220, n=200),\n",
    "    square=True\n",
    ")\n",
    "ax.set_xticklabels(\n",
    "    ax.get_xticklabels(),\n",
    "    rotation=45,\n",
    "    horizontalalignment='right'\n",
    ");"
   ]
  },
  {
   "cell_type": "code",
   "execution_count": null,
   "id": "5890a2f7-c02b-413f-899d-cebaa0ca46d8",
   "metadata": {},
   "outputs": [],
   "source": [
    "def heatmap(x, y, size):\n",
    "    fig, ax = plt.subplots()\n",
    "    \n",
    "    \n",
    "    x_labels = [v for v in sorted(x.unique())]\n",
    "    y_labels = [v for v in sorted(y.unique())]\n",
    "    x_to_num = {p[1]:p[0] for p in enumerate(x_labels)} \n",
    "    y_to_num = {p[1]:p[0] for p in enumerate(y_labels)} \n",
    "    \n",
    "    size_scale = 500\n",
    "    ax.scatter(\n",
    "        x=x.map(x_to_num), \n",
    "        y=y.map(y_to_num), \n",
    "        s=size * size_scale, \n",
    "        marker='s' \n",
    "    )\n",
    "    \n",
    "    \n",
    "    ax.set_xticks([x_to_num[v] for v in x_labels])\n",
    "    ax.set_xticklabels(x_labels, rotation=45, horizontalalignment='right')\n",
    "    ax.set_yticks([y_to_num[v] for v in y_labels])\n",
    "    ax.set_yticklabels(y_labels)\n",
    "    \n",
    "\n",
    "corr = cleaned_data.corr()\n",
    "corr = pd.melt(corr.reset_index(), id_vars='index') \n",
    "corr.columns = ['x', 'y', 'value']\n",
    "heatmap(\n",
    "    x=corr['x'],\n",
    "    y=corr['y'],\n",
    "    size=corr['value'].abs()\n",
    ")"
   ]
  },
  {
   "cell_type": "code",
   "execution_count": null,
   "id": "bc0123ae-558d-44a5-a7a2-bc5d7011b9d8",
   "metadata": {},
   "outputs": [],
   "source": []
  },
  {
   "cell_type": "code",
   "execution_count": null,
   "id": "d36df5b0-cd3e-46a6-8fa4-1fc215681460",
   "metadata": {},
   "outputs": [],
   "source": []
  },
  {
   "cell_type": "code",
   "execution_count": null,
   "id": "284a49b0-531f-4005-943c-0ea510006046",
   "metadata": {},
   "outputs": [],
   "source": [
    "\n"
   ]
  },
  {
   "cell_type": "code",
   "execution_count": null,
   "id": "9c038114-6697-4d32-aca8-4eeacee44e39",
   "metadata": {},
   "outputs": [],
   "source": [
    "fraud_data = {'Year' : ['2016', '2017', '2018', '2019', '2020'],\n",
    "       'CC Fraud Reports': ['124522', '133100', '157743', '271927', '393207'],\n",
    "        'Data Breaches' : ['1104', '1631', '1280', '1362', '1108'],\n",
    "        'Individuals Impacted By Breach' : ['2541581891', '2081515330', '2231244353',\n",
    "                                           '887286658', '300562519']\n",
    "       }\n",
    "\n",
    "fraud_df = pd.DataFrame(fraud_data)\n",
    "\n",
    "fraud_df.set_index('Year')"
   ]
  },
  {
   "cell_type": "code",
   "execution_count": null,
   "id": "93fb6d58-a2a2-498a-854e-b7be2edcb0df",
   "metadata": {},
   "outputs": [],
   "source": [
    "fraud_df = fraud_df.astype(float)"
   ]
  },
  {
   "cell_type": "code",
   "execution_count": null,
   "id": "9e343603-21b0-472d-844b-14bb2d6aadaa",
   "metadata": {},
   "outputs": [],
   "source": []
  },
  {
   "cell_type": "code",
   "execution_count": null,
   "id": "bff2ed81-e105-4fce-8fb8-7d2c264929c0",
   "metadata": {},
   "outputs": [],
   "source": []
  }
 ],
 "metadata": {
  "kernelspec": {
   "display_name": "Python 3",
   "language": "python",
   "name": "python3"
  },
  "language_info": {
   "codemirror_mode": {
    "name": "ipython",
    "version": 3
   },
   "file_extension": ".py",
   "mimetype": "text/x-python",
   "name": "python",
   "nbconvert_exporter": "python",
   "pygments_lexer": "ipython3",
   "version": "3.8.8"
  }
 },
 "nbformat": 4,
 "nbformat_minor": 5
}
